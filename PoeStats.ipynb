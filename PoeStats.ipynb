{
 "cells": [
  {
   "cell_type": "code",
   "execution_count": null,
   "metadata": {},
   "outputs": [],
   "source": [
    "import poeShared\n",
    "from poeShared import *\n",
    "import jsonpickle"
   ]
  },
  {
   "cell_type": "code",
   "execution_count": null,
   "metadata": {},
   "outputs": [],
   "source": [
    "statsRaw = dbGetStats()\n",
    "statsByAscendancy = dict()\n",
    "for row in statsRaw:\n",
    "    statsByAscendancy[row[\"ascendancy\"]] = jsonpickle.decode(row[\"json\"])\n",
    "    \n",
    "pprint(statsByAscendancy)"
   ]
  },
  {
   "cell_type": "code",
   "execution_count": null,
   "metadata": {},
   "outputs": [],
   "source": [
    "from plotly import __version__\n",
    "from plotly.offline import download_plotlyjs, init_notebook_mode, plot, iplot\n",
    "import matplotlib.pyplot as plt\n",
    "import numpy as np\n",
    "import plotly.plotly as py\n",
    "import plotly.tools as tls\n",
    "import plotly.graph_objs as go\n",
    "from plotly.graph_objs import *\n",
    "\n",
    "from IPython.core.display import display, HTML\n",
    "\n",
    "print('Plotly version: {}'.format(__version__ )) # requires version >= 1.9.0\n",
    "init_notebook_mode(connected=True)\n",
    "\n",
    "iplot([{\"x\": [1, 2, 3], \"y\": [3, 1, 6]}])"
   ]
  },
  {
   "cell_type": "code",
   "execution_count": null,
   "metadata": {},
   "outputs": [],
   "source": [
    "polarityByAscendancy = dict()\n",
    "for key in statsByAscendancy:\n",
    "    polarity = statsByAscendancy[key][\"Polarity\"]\n",
    "    if (polarity <= 0.001): \n",
    "        continue\n",
    "    polarityByAscendancy[key] = float(polarity)\n",
    "polarityByAscendancy = sorted(polarityByAscendancy.items(), key=lambda x: - x[1])\n",
    "\n",
    "pprint(polarityByAscendancy)\n",
    "\n",
    "xData = [key[0] for key in polarityByAscendancy]\n",
    "yData = [key[1] for key in polarityByAscendancy]\n",
    "data = [go.Bar(\n",
    "            x=yData,\n",
    "            y=xData,\n",
    "            marker=Marker(\n",
    "                    cmax=18,\n",
    "                    cmin=5,\n",
    "                    color=[0, 1, 2, 3, 4,5,6,7,8,9,10,11,12,13,14,15,16,17,18,19,20],\n",
    "                    colorscale='Jet',\n",
    "                    line = dict(\n",
    "                            color = 'rgba(58, 71, 80, 1.0)',\n",
    "                            width = 1),\n",
    "                ),\n",
    "            orientation = 'h'\n",
    "    )]\n",
    "\n",
    "layout = go.Layout(\n",
    "    title='Thread positiviness(0 = strictly negative, 1 = strictly positive)',\n",
    "    xaxis=dict(\n",
    "        range=[0, 1]\n",
    "    ),\n",
    ")\n",
    "fig = go.Figure(data=data, layout=layout)\n",
    "iplot(fig)"
   ]
  },
  {
   "cell_type": "code",
   "execution_count": null,
   "metadata": {},
   "outputs": [],
   "source": [
    "commentsCountByAscendancy = dict()\n",
    "for ascendancy in PoeAscendancy:\n",
    "    rawComments = dbGetComments(ascendancy)\n",
    "    commentsCount = len(rawComments)\n",
    "    if (commentsCount <= 0): \n",
    "        continue\n",
    "    commentsCountByAscendancy[ascendancy.name] = commentsCount\n",
    "commentsCountByAscendancy = sorted(commentsCountByAscendancy.items(), key=lambda x: - x[1])\n",
    "xData = [key[0] for key in commentsCountByAscendancy]\n",
    "yData = [key[1] for key in commentsCountByAscendancy]\n",
    "\n",
    "layout = go.Layout(\n",
    "    title='Comments count',\n",
    ")\n",
    "\n",
    "fig = go.Figure(data=[go.Pie(labels=xData, values=yData)], layout=layout)\n",
    "iplot(fig)"
   ]
  }
 ],
 "metadata": {
  "kernelspec": {
   "display_name": "Python 3",
   "language": "python",
   "name": "python3"
  },
  "language_info": {
   "codemirror_mode": {
    "name": "ipython",
    "version": 3
   },
   "file_extension": ".py",
   "mimetype": "text/x-python",
   "name": "python",
   "nbconvert_exporter": "python",
   "pygments_lexer": "ipython3",
   "version": "3.5.2"
  }
 },
 "nbformat": 4,
 "nbformat_minor": 2
}
