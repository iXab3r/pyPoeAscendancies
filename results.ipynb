{
 "cells": [
  {
   "cell_type": "code",
   "execution_count": 139,
   "metadata": {},
   "outputs": [],
   "source": [
    "import poeShared\n",
    "from poeShared import *\n",
    "import jsonpickle"
   ]
  },
  {
   "cell_type": "code",
   "execution_count": 140,
   "metadata": {},
   "outputs": [
    {
     "name": "stdout",
     "output_type": "stream",
     "text": [
      "{'Ascendant': {'Polarity': 0.0},\n",
      " 'Assassin': {'Polarity': 0.44343710657800955},\n",
      " 'Berserker': {'Polarity': 0.44345849434079077},\n",
      " 'Champion': {'Polarity': 0.4334692155086085},\n",
      " 'Chieftain': {'Polarity': 0.44345849434079077},\n",
      " 'Deadeye': {'Polarity': 0.434581266712944},\n",
      " 'Elementalist': {'Polarity': 0.42330662028455984},\n",
      " 'Gladiator': {'Polarity': 0.40631219438328076},\n",
      " 'Guardian': {'Polarity': 0.44343710657800955},\n",
      " 'Hierophant': {'Polarity': 0.44343710657800955},\n",
      " 'Inquisitor': {'Polarity': 0.4163909150038527},\n",
      " 'Juggernaut': {'Polarity': 0.0},\n",
      " 'Necromancer': {'Polarity': 0.43604224252735113},\n",
      " 'Occultist': {'Polarity': 0.44687345721162774},\n",
      " 'Pathfinder': {'Polarity': 0.42806198221489683},\n",
      " 'Raider': {'Polarity': 0.4374117617325035},\n",
      " 'Saboteur': {'Polarity': 0.37513239918982955},\n",
      " 'Slayer': {'Polarity': 0.4329570371011797},\n",
      " 'Trickster': {'Polarity': 0.48609976597200444}}\n"
     ]
    }
   ],
   "source": [
    "statsRaw = dbGetStats()\n",
    "statsByAscendancy = dict()\n",
    "for row in statsRaw:\n",
    "    statsByAscendancy[row[\"ascendancy\"]] = jsonpickle.decode(row[\"json\"])\n",
    "    \n",
    "pprint(statsByAscendancy)"
   ]
  },
  {
   "cell_type": "code",
   "execution_count": 141,
   "metadata": {},
   "outputs": [
    {
     "name": "stdout",
     "output_type": "stream",
     "text": [
      "Plotly version: 2.4.1\n"
     ]
    },
    {
     "data": {
      "text/html": [
       "<script>requirejs.config({paths: { 'plotly': ['https://cdn.plot.ly/plotly-latest.min']},});if(!window.Plotly) {{require(['plotly'],function(plotly) {window.Plotly=plotly;});}}</script>"
      ]
     },
     "metadata": {},
     "output_type": "execute_result"
    },
    {
     "data": {
      "text/html": [
       "<h1>Hello, world!</h1>"
      ],
      "text/plain": [
       "<IPython.core.display.HTML object>"
      ]
     },
     "metadata": {},
     "output_type": "execute_result"
    },
    {
     "data": {
      "text/html": [
       "<div id=\"8683b889-3a35-4b49-80eb-8b8f5855f7ab\" style=\"height: 525px; width: 100%;\" class=\"plotly-graph-div\"></div><script type=\"text/javascript\">require([\"plotly\"], function(Plotly) { window.PLOTLYENV=window.PLOTLYENV || {};window.PLOTLYENV.BASE_URL=\"https://plot.ly\";Plotly.newPlot(\"8683b889-3a35-4b49-80eb-8b8f5855f7ab\", [{\"y\": [3, 1, 6], \"x\": [1, 2, 3]}], {}, {\"linkText\": \"Export to plot.ly\", \"showLink\": true})});</script>"
      ]
     },
     "metadata": {},
     "output_type": "execute_result"
    }
   ],
   "source": [
    "from plotly import __version__\n",
    "from plotly.offline import download_plotlyjs, init_notebook_mode, plot, iplot\n",
    "import matplotlib.pyplot as plt\n",
    "import numpy as np\n",
    "import plotly.plotly as py\n",
    "import plotly.tools as tls\n",
    "import plotly.graph_objs as go\n",
    "from plotly.graph_objs import *\n",
    "\n",
    "from IPython.core.display import display, HTML\n",
    "\n",
    "print('Plotly version: {}'.format(__version__ )) # requires version >= 1.9.0\n",
    "init_notebook_mode(connected=True)\n",
    "\n",
    "iplot([{\"x\": [1, 2, 3], \"y\": [3, 1, 6]}])"
   ]
  },
  {
   "cell_type": "code",
   "execution_count": 142,
   "metadata": {},
   "outputs": [
    {
     "name": "stdout",
     "output_type": "stream",
     "text": [
      "[('Trickster', 0.48609976597200444),\n",
      " ('Occultist', 0.44687345721162774),\n",
      " ('Chieftain', 0.44345849434079077),\n",
      " ('Berserker', 0.44345849434079077),\n",
      " ('Hierophant', 0.44343710657800955),\n",
      " ('Guardian', 0.44343710657800955),\n",
      " ('Assassin', 0.44343710657800955),\n",
      " ('Raider', 0.4374117617325035),\n",
      " ('Necromancer', 0.43604224252735113),\n",
      " ('Deadeye', 0.434581266712944),\n",
      " ('Champion', 0.4334692155086085),\n",
      " ('Slayer', 0.4329570371011797),\n",
      " ('Pathfinder', 0.42806198221489683),\n",
      " ('Elementalist', 0.42330662028455984),\n",
      " ('Inquisitor', 0.4163909150038527),\n",
      " ('Gladiator', 0.40631219438328076),\n",
      " ('Saboteur', 0.37513239918982955)]\n"
     ]
    },
    {
     "data": {
      "text/html": [
       "<div id=\"7fc173ae-9028-4de0-a7a2-e9f87348feb9\" style=\"height: 525px; width: 100%;\" class=\"plotly-graph-div\"></div><script type=\"text/javascript\">require([\"plotly\"], function(Plotly) { window.PLOTLYENV=window.PLOTLYENV || {};window.PLOTLYENV.BASE_URL=\"https://plot.ly\";Plotly.newPlot(\"7fc173ae-9028-4de0-a7a2-e9f87348feb9\", [{\"y\": [\"Trickster\", \"Occultist\", \"Chieftain\", \"Berserker\", \"Hierophant\", \"Guardian\", \"Assassin\", \"Raider\", \"Necromancer\", \"Deadeye\", \"Champion\", \"Slayer\", \"Pathfinder\", \"Elementalist\", \"Inquisitor\", \"Gladiator\", \"Saboteur\"], \"type\": \"bar\", \"x\": [0.48609976597200444, 0.44687345721162774, 0.44345849434079077, 0.44345849434079077, 0.44343710657800955, 0.44343710657800955, 0.44343710657800955, 0.4374117617325035, 0.43604224252735113, 0.434581266712944, 0.4334692155086085, 0.4329570371011797, 0.42806198221489683, 0.42330662028455984, 0.4163909150038527, 0.40631219438328076, 0.37513239918982955], \"marker\": {\"color\": [0, 1, 2, 3, 4, 5, 6, 7, 8, 9, 10, 11, 12, 13, 14, 15, 16, 17, 18, 19, 20], \"cmax\": 18, \"line\": {\"width\": 1, \"color\": \"rgba(58, 71, 80, 1.0)\"}, \"colorscale\": \"Jet\", \"cmin\": 5}, \"orientation\": \"h\"}], {\"xaxis\": {\"range\": [0, 1]}, \"title\": \"Thread positiviness(0 = strictly negative, 1 = strictly positive)\"}, {\"linkText\": \"Export to plot.ly\", \"showLink\": true})});</script>"
      ]
     },
     "metadata": {},
     "output_type": "execute_result"
    }
   ],
   "source": [
    "polarityByAscendancy = dict()\n",
    "for key in statsByAscendancy:\n",
    "    polarity = statsByAscendancy[key][\"Polarity\"]\n",
    "    if (polarity <= 0.001): \n",
    "        continue\n",
    "    polarityByAscendancy[key] = float(polarity)\n",
    "polarityByAscendancy = sorted(polarityByAscendancy.items(), key=lambda x: - x[1])\n",
    "\n",
    "pprint(polarityByAscendancy)\n",
    "\n",
    "xData = [key[0] for key in polarityByAscendancy]\n",
    "yData = [key[1] for key in polarityByAscendancy]\n",
    "data = [go.Bar(\n",
    "            x=yData,\n",
    "            y=xData,\n",
    "            marker=Marker(\n",
    "                    cmax=18,\n",
    "                    cmin=5,\n",
    "                    color=[0, 1, 2, 3, 4,5,6,7,8,9,10,11,12,13,14,15,16,17,18,19,20],\n",
    "                    colorscale='Jet',\n",
    "                    line = dict(\n",
    "                            color = 'rgba(58, 71, 80, 1.0)',\n",
    "                            width = 1),\n",
    "                ),\n",
    "            orientation = 'h'\n",
    "    )]\n",
    "\n",
    "layout = go.Layout(\n",
    "    title='Thread positiviness(0 = strictly negative, 1 = strictly positive)',\n",
    "    xaxis=dict(\n",
    "        range=[0, 1]\n",
    "    ),\n",
    ")\n",
    "fig = go.Figure(data=data, layout=layout)\n",
    "iplot(fig)"
   ]
  },
  {
   "cell_type": "code",
   "execution_count": 143,
   "metadata": {},
   "outputs": [
    {
     "data": {
      "text/html": [
       "<div id=\"305eeaea-9b64-4136-a64b-6f0cba60bc02\" style=\"height: 525px; width: 100%;\" class=\"plotly-graph-div\"></div><script type=\"text/javascript\">require([\"plotly\"], function(Plotly) { window.PLOTLYENV=window.PLOTLYENV || {};window.PLOTLYENV.BASE_URL=\"https://plot.ly\";Plotly.newPlot(\"305eeaea-9b64-4136-a64b-6f0cba60bc02\", [{\"type\": \"pie\", \"values\": [1131, 1123, 1079, 984, 938, 797, 777, 772, 639, 525, 473, 409, 409, 279, 279, 279, 51], \"labels\": [\"Necromancer\", \"Elementalist\", \"Trickster\", \"Deadeye\", \"Champion\", \"Gladiator\", \"Raider\", \"Occultist\", \"Slayer\", \"Pathfinder\", \"Inquisitor\", \"Berserker\", \"Chieftain\", \"Guardian\", \"Assassin\", \"Hierophant\", \"Saboteur\"]}], {\"title\": \"Comments count\"}, {\"linkText\": \"Export to plot.ly\", \"showLink\": true})});</script>"
      ]
     },
     "metadata": {},
     "output_type": "execute_result"
    }
   ],
   "source": [
    "commentsCountByAscendancy = dict()\n",
    "for ascendancy in PoeAscendancy:\n",
    "    rawComments = dbGetComments(ascendancy)\n",
    "    commentsCount = len(rawComments)\n",
    "    if (commentsCount <= 0): \n",
    "        continue\n",
    "    commentsCountByAscendancy[ascendancy.name] = commentsCount\n",
    "commentsCountByAscendancy = sorted(commentsCountByAscendancy.items(), key=lambda x: - x[1])\n",
    "xData = [key[0] for key in commentsCountByAscendancy]\n",
    "yData = [key[1] for key in commentsCountByAscendancy]\n",
    "\n",
    "layout = go.Layout(\n",
    "    title='Comments count',\n",
    ")\n",
    "\n",
    "fig = go.Figure(data=[go.Pie(labels=xData, values=yData)], layout=layout)\n",
    "iplot(fig)"
   ]
  },
  {
   "cell_type": "code",
   "execution_count": null,
   "metadata": {},
   "outputs": [],
   "source": []
  }
 ],
 "metadata": {
  "kernelspec": {
   "display_name": "Python 3",
   "language": "python",
   "name": "python3"
  },
  "language_info": {
   "codemirror_mode": {
    "name": "ipython",
    "version": 3
   },
   "file_extension": ".py",
   "mimetype": "text/x-python",
   "name": "python",
   "nbconvert_exporter": "python",
   "pygments_lexer": "ipython3",
   "version": "3.5.2"
  }
 },
 "nbformat": 4,
 "nbformat_minor": 1
}
